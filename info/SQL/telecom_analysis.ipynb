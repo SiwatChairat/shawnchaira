{
 "cells": [
  {
   "cell_type": "markdown",
   "id": "251e93ae",
   "metadata": {},
   "source": [
    "### Import Libraries\n",
    "\n",
    "Import necessary libraries for database connection, data manipulation, and visualization.\n"
   ]
  },
  {
   "cell_type": "code",
   "execution_count": 1,
   "id": "e77124c8",
   "metadata": {},
   "outputs": [],
   "source": [
    "# Importing Libraries\n",
    "import sqlite3\n",
    "import pandas as pd\n",
    "\n",
    "import ipywidgets as widgets\n",
    "import plotly.express as px\n",
    "\n",
    "import plotly.graph_objects as go\n",
    "from plotly.subplots import make_subplots\n",
    "from IPython.display import display\n"
   ]
  },
  {
   "cell_type": "markdown",
   "id": "4ea3de3e",
   "metadata": {},
   "source": [
    "### Connect to the Database\n",
    "\n",
    "Establish a connection to the local SQLite database `telecom.db`.\n"
   ]
  },
  {
   "cell_type": "code",
   "execution_count": 2,
   "id": "e0e94a25",
   "metadata": {},
   "outputs": [],
   "source": [
    "# Creating connection to the local database\n",
    "conn = sqlite3.connect(\"telecom.db\")"
   ]
  },
  {
   "cell_type": "markdown",
   "id": "2af0abbb",
   "metadata": {},
   "source": [
    "### Query and Display Sample Data\n",
    "\n",
    "Run SQL queries to fetch sample data from various tables for exploration.\n"
   ]
  },
  {
   "cell_type": "code",
   "execution_count": 3,
   "id": "471216b0",
   "metadata": {},
   "outputs": [],
   "source": [
    "# Query and Display to learn more about data and what information can be used to further analyse\n",
    "query1 = \"\"\"\n",
    "\n",
    "SELECT * FROM dim_cities\n",
    "LIMIT 5;\n",
    "\n",
    "\"\"\"\n",
    "\n",
    "query2 = \"\"\"\n",
    "\n",
    "SELECT * FROM dim_date\n",
    "LIMIT 5;\n",
    "\n",
    "\"\"\"\n",
    "\n",
    "query3 = \"\"\"\n",
    "\n",
    "SELECT * FROM dim_plan\n",
    "LIMIT 5;\n",
    "\n",
    "\"\"\"\n",
    "\n",
    "query4 = \"\"\"\n",
    "\n",
    "SELECT * FROM fact_market_share\n",
    "LIMIT 5;\n",
    "\n",
    "\"\"\"\n",
    "\n",
    "query5 = \"\"\"\n",
    "\n",
    "SELECT * FROM fact_plan_revenue\n",
    "LIMIT 5;\n",
    "\n",
    "\"\"\"\n",
    "\n",
    "df1 = pd.read_sql_query(query1, conn)\n",
    "df2 = pd.read_sql_query(query2, conn)\n",
    "df3 = pd.read_sql_query(query3, conn)\n",
    "df4 = pd.read_sql_query(query4, conn)\n",
    "df5 = pd.read_sql_query(query5, conn)"
   ]
  },
  {
   "cell_type": "markdown",
   "id": "7955e0d9",
   "metadata": {},
   "source": [
    "### Query: Highest Revenue City\n",
    "\n",
    "Find the city generating the highest total revenue from telecom plans.\n"
   ]
  },
  {
   "cell_type": "code",
   "execution_count": 4,
   "id": "a57324e3",
   "metadata": {},
   "outputs": [
    {
     "data": {
      "text/html": [
       "<div>\n",
       "<style scoped>\n",
       "    .dataframe tbody tr th:only-of-type {\n",
       "        vertical-align: middle;\n",
       "    }\n",
       "\n",
       "    .dataframe tbody tr th {\n",
       "        vertical-align: top;\n",
       "    }\n",
       "\n",
       "    .dataframe thead th {\n",
       "        text-align: right;\n",
       "    }\n",
       "</style>\n",
       "<table border=\"1\" class=\"dataframe\">\n",
       "  <thead>\n",
       "    <tr style=\"text-align: right;\">\n",
       "      <th></th>\n",
       "      <th>city_name</th>\n",
       "      <th>total_revenue</th>\n",
       "    </tr>\n",
       "  </thead>\n",
       "  <tbody>\n",
       "    <tr>\n",
       "      <th>0</th>\n",
       "      <td>Mumbai</td>\n",
       "      <td>280.17</td>\n",
       "    </tr>\n",
       "  </tbody>\n",
       "</table>\n",
       "</div>"
      ],
      "text/plain": [
       "  city_name  total_revenue\n",
       "0    Mumbai         280.17"
      ]
     },
     "execution_count": 4,
     "metadata": {},
     "output_type": "execute_result"
    }
   ],
   "source": [
    "#1 \"Which cities generate the highest total revenue from telecom plans?\"\n",
    "\n",
    "high_rev_city_query = \"\"\"\n",
    "SELECT city_name, SUM(R.plan_revenue_crores) AS total_revenue\n",
    "    FROM dim_cities C LEFT JOIN fact_plan_revenue R \n",
    "    ON  C.city_code = R.city_code\n",
    "    GROUP BY city_name\n",
    "    ORDER BY total_revenue DESC \n",
    "    LIMIT 1\n",
    "\"\"\"\n",
    "\n",
    "high_rev_city_df = pd.read_sql_query(high_rev_city_query, conn)\n",
    "high_rev_city_df"
   ]
  },
  {
   "cell_type": "markdown",
   "id": "b585c546",
   "metadata": {},
   "source": [
    "### Query: Revenue Before vs After 5G Rollout\n",
    "\n",
    "Analyze how total plan revenue changed before and after the 5G rollout.\n"
   ]
  },
  {
   "cell_type": "code",
   "execution_count": 5,
   "id": "00bf0cef",
   "metadata": {},
   "outputs": [
    {
     "data": {
      "text/html": [
       "<div>\n",
       "<style scoped>\n",
       "    .dataframe tbody tr th:only-of-type {\n",
       "        vertical-align: middle;\n",
       "    }\n",
       "\n",
       "    .dataframe tbody tr th {\n",
       "        vertical-align: top;\n",
       "    }\n",
       "\n",
       "    .dataframe thead th {\n",
       "        text-align: right;\n",
       "    }\n",
       "</style>\n",
       "<table border=\"1\" class=\"dataframe\">\n",
       "  <thead>\n",
       "    <tr style=\"text-align: right;\">\n",
       "      <th></th>\n",
       "      <th>before/after_5g</th>\n",
       "      <th>total_revenue</th>\n",
       "    </tr>\n",
       "  </thead>\n",
       "  <tbody>\n",
       "    <tr>\n",
       "      <th>0</th>\n",
       "      <td>After 5G</td>\n",
       "      <td>1068.38</td>\n",
       "    </tr>\n",
       "    <tr>\n",
       "      <th>1</th>\n",
       "      <td>Before 5G</td>\n",
       "      <td>882.37</td>\n",
       "    </tr>\n",
       "  </tbody>\n",
       "</table>\n",
       "</div>"
      ],
      "text/plain": [
       "  before/after_5g  total_revenue\n",
       "0        After 5G        1068.38\n",
       "1       Before 5G         882.37"
      ]
     },
     "execution_count": 5,
     "metadata": {},
     "output_type": "execute_result"
    }
   ],
   "source": [
    "#2 \"How did total plan revenue change before vs after the 5G rollout?\"\n",
    "\n",
    "before_after_5g_query = \"\"\"\n",
    "SELECT \"before/after_5g\", SUM(R.plan_revenue_crores) AS total_revenue\n",
    "    FROM dim_date D LEFT JOIN fact_plan_revenue R\n",
    "    ON D.date = R.date\n",
    "    GROUP BY \"before/after_5g\"\n",
    "\"\"\"\n",
    "\n",
    "before_after_5g_df = pd.read_sql_query(before_after_5g_query, conn)\n",
    "before_after_5g_df"
   ]
  },
  {
   "cell_type": "markdown",
   "id": "b7fc69bc",
   "metadata": {},
   "source": [
    "### Query: Top Market Share by City\n",
    "\n",
    "Identify the company with the highest average market share in each city.\n"
   ]
  },
  {
   "cell_type": "code",
   "execution_count": 6,
   "id": "27ba01f5",
   "metadata": {},
   "outputs": [
    {
     "data": {
      "text/html": [
       "<div>\n",
       "<style scoped>\n",
       "    .dataframe tbody tr th:only-of-type {\n",
       "        vertical-align: middle;\n",
       "    }\n",
       "\n",
       "    .dataframe tbody tr th {\n",
       "        vertical-align: top;\n",
       "    }\n",
       "\n",
       "    .dataframe thead th {\n",
       "        text-align: right;\n",
       "    }\n",
       "</style>\n",
       "<table border=\"1\" class=\"dataframe\">\n",
       "  <thead>\n",
       "    <tr style=\"text-align: right;\">\n",
       "      <th></th>\n",
       "      <th>city_name</th>\n",
       "      <th>company</th>\n",
       "      <th>avg_market_share</th>\n",
       "    </tr>\n",
       "  </thead>\n",
       "  <tbody>\n",
       "    <tr>\n",
       "      <th>0</th>\n",
       "      <td>Ahmedabad</td>\n",
       "      <td>PIO</td>\n",
       "      <td>36.55125</td>\n",
       "    </tr>\n",
       "    <tr>\n",
       "      <th>1</th>\n",
       "      <td>Bangalore</td>\n",
       "      <td>PIO</td>\n",
       "      <td>33.79625</td>\n",
       "    </tr>\n",
       "    <tr>\n",
       "      <th>2</th>\n",
       "      <td>Chandigarh</td>\n",
       "      <td>PIO</td>\n",
       "      <td>36.14500</td>\n",
       "    </tr>\n",
       "    <tr>\n",
       "      <th>3</th>\n",
       "      <td>Chennai</td>\n",
       "      <td>PIO</td>\n",
       "      <td>35.45500</td>\n",
       "    </tr>\n",
       "    <tr>\n",
       "      <th>4</th>\n",
       "      <td>Coimbatore</td>\n",
       "      <td>PIO</td>\n",
       "      <td>35.26750</td>\n",
       "    </tr>\n",
       "    <tr>\n",
       "      <th>5</th>\n",
       "      <td>Delhi</td>\n",
       "      <td>PIO</td>\n",
       "      <td>34.98250</td>\n",
       "    </tr>\n",
       "    <tr>\n",
       "      <th>6</th>\n",
       "      <td>Gurgaon</td>\n",
       "      <td>PIO</td>\n",
       "      <td>35.19375</td>\n",
       "    </tr>\n",
       "    <tr>\n",
       "      <th>7</th>\n",
       "      <td>Hyderabad</td>\n",
       "      <td>PIO</td>\n",
       "      <td>35.48625</td>\n",
       "    </tr>\n",
       "    <tr>\n",
       "      <th>8</th>\n",
       "      <td>Jaipur</td>\n",
       "      <td>PIO</td>\n",
       "      <td>34.96875</td>\n",
       "    </tr>\n",
       "    <tr>\n",
       "      <th>9</th>\n",
       "      <td>Kolkata</td>\n",
       "      <td>PIO</td>\n",
       "      <td>37.31500</td>\n",
       "    </tr>\n",
       "    <tr>\n",
       "      <th>10</th>\n",
       "      <td>Lucknow</td>\n",
       "      <td>PIO</td>\n",
       "      <td>35.96250</td>\n",
       "    </tr>\n",
       "    <tr>\n",
       "      <th>11</th>\n",
       "      <td>Mumbai</td>\n",
       "      <td>PIO</td>\n",
       "      <td>33.58625</td>\n",
       "    </tr>\n",
       "    <tr>\n",
       "      <th>12</th>\n",
       "      <td>Patna</td>\n",
       "      <td>PIO</td>\n",
       "      <td>35.40250</td>\n",
       "    </tr>\n",
       "    <tr>\n",
       "      <th>13</th>\n",
       "      <td>Pune</td>\n",
       "      <td>PIO</td>\n",
       "      <td>33.81125</td>\n",
       "    </tr>\n",
       "    <tr>\n",
       "      <th>14</th>\n",
       "      <td>Raipur</td>\n",
       "      <td>PIO</td>\n",
       "      <td>37.30750</td>\n",
       "    </tr>\n",
       "  </tbody>\n",
       "</table>\n",
       "</div>"
      ],
      "text/plain": [
       "     city_name company  avg_market_share\n",
       "0    Ahmedabad     PIO          36.55125\n",
       "1    Bangalore     PIO          33.79625\n",
       "2   Chandigarh     PIO          36.14500\n",
       "3      Chennai     PIO          35.45500\n",
       "4   Coimbatore     PIO          35.26750\n",
       "5        Delhi     PIO          34.98250\n",
       "6      Gurgaon     PIO          35.19375\n",
       "7    Hyderabad     PIO          35.48625\n",
       "8       Jaipur     PIO          34.96875\n",
       "9      Kolkata     PIO          37.31500\n",
       "10     Lucknow     PIO          35.96250\n",
       "11      Mumbai     PIO          33.58625\n",
       "12       Patna     PIO          35.40250\n",
       "13        Pune     PIO          33.81125\n",
       "14      Raipur     PIO          37.30750"
      ]
     },
     "execution_count": 6,
     "metadata": {},
     "output_type": "execute_result"
    }
   ],
   "source": [
    "#3 “Which company has the highest average market share in each city?”\n",
    "top_ms_per_city_query = \"\"\"\n",
    "WITH rank_ms AS (\n",
    "    SELECT \n",
    "        C.city_name, \n",
    "        MS.company, \n",
    "        AVG(MS.ms_pct) AS avg_market_share,\n",
    "        RANK() OVER (PARTITION BY C.city_name ORDER BY AVG(MS.ms_pct) DESC) AS company_rank\n",
    "    FROM fact_market_share MS LEFT JOIN dim_cities C \n",
    "    ON MS.city_code = C.city_code\n",
    "    GROUP BY C.city_name, MS.company\n",
    "\n",
    ")\n",
    "SELECT city_name, company, avg_market_share\n",
    "FROM rank_ms\n",
    "WHERE company_rank = 1;\n",
    "\"\"\"\n",
    "\n",
    "top_ms_per_city_df = pd.read_sql_query(top_ms_per_city_query, conn)\n",
    "top_ms_per_city_df"
   ]
  },
  {
   "cell_type": "markdown",
   "id": "62360071",
   "metadata": {},
   "source": [
    "### Query: High Revenue and Market Share Companies\n",
    "\n",
    "Find companies with high average market share and revenue after the 5G rollout.\n"
   ]
  },
  {
   "cell_type": "code",
   "execution_count": 7,
   "id": "17eeac12",
   "metadata": {},
   "outputs": [
    {
     "data": {
      "text/html": [
       "<div>\n",
       "<style scoped>\n",
       "    .dataframe tbody tr th:only-of-type {\n",
       "        vertical-align: middle;\n",
       "    }\n",
       "\n",
       "    .dataframe tbody tr th {\n",
       "        vertical-align: top;\n",
       "    }\n",
       "\n",
       "    .dataframe thead th {\n",
       "        text-align: right;\n",
       "    }\n",
       "</style>\n",
       "<table border=\"1\" class=\"dataframe\">\n",
       "  <thead>\n",
       "    <tr style=\"text-align: right;\">\n",
       "      <th></th>\n",
       "      <th>city_name</th>\n",
       "      <th>company</th>\n",
       "      <th>avg_ms</th>\n",
       "      <th>avg_revenue</th>\n",
       "    </tr>\n",
       "  </thead>\n",
       "  <tbody>\n",
       "    <tr>\n",
       "      <th>0</th>\n",
       "      <td>Mumbai</td>\n",
       "      <td>PIO</td>\n",
       "      <td>33.8625</td>\n",
       "      <td>3.98575</td>\n",
       "    </tr>\n",
       "    <tr>\n",
       "      <th>1</th>\n",
       "      <td>Delhi</td>\n",
       "      <td>PIO</td>\n",
       "      <td>35.2775</td>\n",
       "      <td>3.31350</td>\n",
       "    </tr>\n",
       "    <tr>\n",
       "      <th>2</th>\n",
       "      <td>Delhi</td>\n",
       "      <td>Britel</td>\n",
       "      <td>31.0425</td>\n",
       "      <td>3.31350</td>\n",
       "    </tr>\n",
       "    <tr>\n",
       "      <th>3</th>\n",
       "      <td>Kolkata</td>\n",
       "      <td>PIO</td>\n",
       "      <td>37.6125</td>\n",
       "      <td>3.24075</td>\n",
       "    </tr>\n",
       "  </tbody>\n",
       "</table>\n",
       "</div>"
      ],
      "text/plain": [
       "  city_name company   avg_ms  avg_revenue\n",
       "0    Mumbai     PIO  33.8625      3.98575\n",
       "1     Delhi     PIO  35.2775      3.31350\n",
       "2     Delhi  Britel  31.0425      3.31350\n",
       "3   Kolkata     PIO  37.6125      3.24075"
      ]
     },
     "execution_count": 7,
     "metadata": {},
     "output_type": "execute_result"
    }
   ],
   "source": [
    "#4 \"Find company with the high average market share and revenue\"\n",
    "high_rev_ms_query = \"\"\"\n",
    "WITH revenue_per_city AS (\n",
    "    SELECT C.city_name, \n",
    "    AVG(R.plan_revenue_crores) AS avg_revenue\n",
    "    FROM fact_plan_revenue R\n",
    "    JOIN dim_cities C ON R.city_code = C.city_code\n",
    "    JOIN dim_date D ON R.date = D.date\n",
    "    WHERE D.\"before/after_5g\" = \"After 5G\" \n",
    "    GROUP BY C.city_name\n",
    "),\n",
    "\n",
    "market_share_pc AS (\n",
    "    SELECT C.city_name,\n",
    "    MS.company,\n",
    "    AVG(MS.ms_pct) AS avg_ms\n",
    "    FROM fact_market_share MS\n",
    "    JOIN dim_cities C ON MS.city_code = C.city_code\n",
    "    JOIN dim_date D ON MS.date = D.date\n",
    "    WHERE D.\"before/after_5g\" = \"After 5G\" \n",
    "    GROUP BY C.city_name, MS.company\n",
    ")\n",
    "\n",
    "SELECT M.city_name,\n",
    "M.company,\n",
    "M.avg_ms,\n",
    "R.avg_revenue\n",
    "FROM market_share_pc M JOIN revenue_per_city R ON M.city_name = R.city_name\n",
    "WHERE M.avg_ms > 30 AND R.avg_revenue > 3\n",
    "ORDER BY R.avg_revenue DESC, M.avg_ms DESC;\n",
    "\"\"\"\n",
    "\n",
    "high_rev_ms_df = pd.read_sql_query(high_rev_ms_query, conn)\n",
    "high_rev_ms_df"
   ]
  },
  {
   "cell_type": "markdown",
   "id": "d204b2f3",
   "metadata": {},
   "source": [
    "### Query: Aggregate Data for Dashboard\n",
    "\n",
    "Fetch and preprocess data for dashboard visualizations.\n"
   ]
  },
  {
   "cell_type": "code",
   "execution_count": 8,
   "id": "7fc5307d",
   "metadata": {},
   "outputs": [
    {
     "data": {
      "text/plain": [
       "period                  object\n",
       "city_name               object\n",
       "company                 object\n",
       "plan_revenue_crores    float64\n",
       "ms_pct                 float64\n",
       "time_period             object\n",
       "dtype: object"
      ]
     },
     "execution_count": 8,
     "metadata": {},
     "output_type": "execute_result"
    }
   ],
   "source": [
    "# Import the database int\n",
    "import sqlite3\n",
    "import pandas as pd\n",
    "\n",
    "\n",
    "# connect to database\n",
    "conn = sqlite3.connect(\"telecom.db\")\n",
    "\n",
    "# Query the average of before and after 5g period\n",
    "query = \"\"\"\n",
    "SELECT \n",
    "    D.\"before/after_5g\" AS period,\n",
    "    C.city_name,\n",
    "    FMS.company,\n",
    "    FPR.plan_revenue_crores,\n",
    "    FMS.ms_pct,\n",
    "    D.time_period\n",
    "FROM fact_plan_revenue FPR\n",
    "JOIN dim_cities C ON FPR.city_code = C.city_code\n",
    "JOIN dim_date D ON FPR.date = D.date\n",
    "JOIN fact_market_share FMS ON FPR.city_code = FMS.city_code AND FPR.date = FMS.date;\n",
    "\"\"\"\n",
    "\n",
    "df = pd.read_sql_query(query, conn)\n",
    "\n",
    "df[\"plan_revenue_crores\"] = pd.to_numeric(df[\"plan_revenue_crores\"], errors=\"coerce\")\n",
    "df[\"ms_pct\"] = pd.to_numeric(df[\"ms_pct\"], errors=\"coerce\")\n",
    "df.dtypes"
   ]
  },
  {
   "cell_type": "markdown",
   "id": "75a8b4dd",
   "metadata": {},
   "source": [
    "### Grouped Data: Before vs After 5G\n",
    "\n",
    "Aggregate data by period for analysis.\n"
   ]
  },
  {
   "cell_type": "code",
   "execution_count": 9,
   "id": "f6e22c49",
   "metadata": {},
   "outputs": [
    {
     "data": {
      "text/html": [
       "<div>\n",
       "<style scoped>\n",
       "    .dataframe tbody tr th:only-of-type {\n",
       "        vertical-align: middle;\n",
       "    }\n",
       "\n",
       "    .dataframe tbody tr th {\n",
       "        vertical-align: top;\n",
       "    }\n",
       "\n",
       "    .dataframe thead th {\n",
       "        text-align: right;\n",
       "    }\n",
       "</style>\n",
       "<table border=\"1\" class=\"dataframe\">\n",
       "  <thead>\n",
       "    <tr style=\"text-align: right;\">\n",
       "      <th></th>\n",
       "      <th>period</th>\n",
       "      <th>plan_revenue_crores</th>\n",
       "      <th>ms_pct</th>\n",
       "    </tr>\n",
       "  </thead>\n",
       "  <tbody>\n",
       "    <tr>\n",
       "      <th>0</th>\n",
       "      <td>After 5G</td>\n",
       "      <td>1.780633</td>\n",
       "      <td>20.0001</td>\n",
       "    </tr>\n",
       "    <tr>\n",
       "      <th>1</th>\n",
       "      <td>Before 5G</td>\n",
       "      <td>1.470617</td>\n",
       "      <td>20.0000</td>\n",
       "    </tr>\n",
       "  </tbody>\n",
       "</table>\n",
       "</div>"
      ],
      "text/plain": [
       "      period  plan_revenue_crores   ms_pct\n",
       "0   After 5G             1.780633  20.0001\n",
       "1  Before 5G             1.470617  20.0000"
      ]
     },
     "execution_count": 9,
     "metadata": {},
     "output_type": "execute_result"
    }
   ],
   "source": [
    "before_after_5g = df.groupby([\"period\"]).agg({\n",
    "    \"plan_revenue_crores\": \"mean\",\n",
    "    \"ms_pct\": \"mean\"\n",
    "}).reset_index()\n",
    "before_after_5g"
   ]
  },
  {
   "cell_type": "markdown",
   "id": "a21c17ac",
   "metadata": {},
   "source": [
    "### Grouped Data: Before vs After 5G by City\n",
    "\n",
    "Aggregate data by period and city for visualization.\n"
   ]
  },
  {
   "cell_type": "code",
   "execution_count": 10,
   "id": "681c1a2f",
   "metadata": {},
   "outputs": [
    {
     "data": {
      "text/html": [
       "<div>\n",
       "<style scoped>\n",
       "    .dataframe tbody tr th:only-of-type {\n",
       "        vertical-align: middle;\n",
       "    }\n",
       "\n",
       "    .dataframe tbody tr th {\n",
       "        vertical-align: top;\n",
       "    }\n",
       "\n",
       "    .dataframe thead th {\n",
       "        text-align: right;\n",
       "    }\n",
       "</style>\n",
       "<table border=\"1\" class=\"dataframe\">\n",
       "  <thead>\n",
       "    <tr style=\"text-align: right;\">\n",
       "      <th></th>\n",
       "      <th>period</th>\n",
       "      <th>city_name</th>\n",
       "      <th>plan_revenue_crores</th>\n",
       "      <th>ms_pct</th>\n",
       "    </tr>\n",
       "  </thead>\n",
       "  <tbody>\n",
       "    <tr>\n",
       "      <th>0</th>\n",
       "      <td>After 5G</td>\n",
       "      <td>Ahmedabad</td>\n",
       "      <td>1.59775</td>\n",
       "      <td>20.0015</td>\n",
       "    </tr>\n",
       "    <tr>\n",
       "      <th>1</th>\n",
       "      <td>After 5G</td>\n",
       "      <td>Bangalore</td>\n",
       "      <td>2.81975</td>\n",
       "      <td>20.0005</td>\n",
       "    </tr>\n",
       "    <tr>\n",
       "      <th>2</th>\n",
       "      <td>After 5G</td>\n",
       "      <td>Chandigarh</td>\n",
       "      <td>0.50475</td>\n",
       "      <td>20.0000</td>\n",
       "    </tr>\n",
       "    <tr>\n",
       "      <th>3</th>\n",
       "      <td>After 5G</td>\n",
       "      <td>Chennai</td>\n",
       "      <td>2.50600</td>\n",
       "      <td>20.0000</td>\n",
       "    </tr>\n",
       "    <tr>\n",
       "      <th>4</th>\n",
       "      <td>After 5G</td>\n",
       "      <td>Coimbatore</td>\n",
       "      <td>0.77350</td>\n",
       "      <td>20.0000</td>\n",
       "    </tr>\n",
       "    <tr>\n",
       "      <th>5</th>\n",
       "      <td>After 5G</td>\n",
       "      <td>Delhi</td>\n",
       "      <td>3.31350</td>\n",
       "      <td>20.0005</td>\n",
       "    </tr>\n",
       "    <tr>\n",
       "      <th>6</th>\n",
       "      <td>After 5G</td>\n",
       "      <td>Gurgaon</td>\n",
       "      <td>0.45800</td>\n",
       "      <td>20.0000</td>\n",
       "    </tr>\n",
       "    <tr>\n",
       "      <th>7</th>\n",
       "      <td>After 5G</td>\n",
       "      <td>Hyderabad</td>\n",
       "      <td>2.00650</td>\n",
       "      <td>20.0000</td>\n",
       "    </tr>\n",
       "    <tr>\n",
       "      <th>8</th>\n",
       "      <td>After 5G</td>\n",
       "      <td>Jaipur</td>\n",
       "      <td>1.15625</td>\n",
       "      <td>19.9990</td>\n",
       "    </tr>\n",
       "    <tr>\n",
       "      <th>9</th>\n",
       "      <td>After 5G</td>\n",
       "      <td>Kolkata</td>\n",
       "      <td>3.24075</td>\n",
       "      <td>20.0005</td>\n",
       "    </tr>\n",
       "    <tr>\n",
       "      <th>10</th>\n",
       "      <td>After 5G</td>\n",
       "      <td>Lucknow</td>\n",
       "      <td>1.09225</td>\n",
       "      <td>19.9995</td>\n",
       "    </tr>\n",
       "    <tr>\n",
       "      <th>11</th>\n",
       "      <td>After 5G</td>\n",
       "      <td>Mumbai</td>\n",
       "      <td>3.98575</td>\n",
       "      <td>20.0000</td>\n",
       "    </tr>\n",
       "    <tr>\n",
       "      <th>12</th>\n",
       "      <td>After 5G</td>\n",
       "      <td>Patna</td>\n",
       "      <td>0.85025</td>\n",
       "      <td>19.9990</td>\n",
       "    </tr>\n",
       "    <tr>\n",
       "      <th>13</th>\n",
       "      <td>After 5G</td>\n",
       "      <td>Pune</td>\n",
       "      <td>2.11450</td>\n",
       "      <td>20.0010</td>\n",
       "    </tr>\n",
       "    <tr>\n",
       "      <th>14</th>\n",
       "      <td>After 5G</td>\n",
       "      <td>Raipur</td>\n",
       "      <td>0.29000</td>\n",
       "      <td>20.0000</td>\n",
       "    </tr>\n",
       "    <tr>\n",
       "      <th>15</th>\n",
       "      <td>Before 5G</td>\n",
       "      <td>Ahmedabad</td>\n",
       "      <td>1.36375</td>\n",
       "      <td>20.0000</td>\n",
       "    </tr>\n",
       "    <tr>\n",
       "      <th>16</th>\n",
       "      <td>Before 5G</td>\n",
       "      <td>Bangalore</td>\n",
       "      <td>2.51200</td>\n",
       "      <td>20.0000</td>\n",
       "    </tr>\n",
       "    <tr>\n",
       "      <th>17</th>\n",
       "      <td>Before 5G</td>\n",
       "      <td>Chandigarh</td>\n",
       "      <td>0.43650</td>\n",
       "      <td>20.0000</td>\n",
       "    </tr>\n",
       "    <tr>\n",
       "      <th>18</th>\n",
       "      <td>Before 5G</td>\n",
       "      <td>Chennai</td>\n",
       "      <td>2.19825</td>\n",
       "      <td>20.0000</td>\n",
       "    </tr>\n",
       "    <tr>\n",
       "      <th>19</th>\n",
       "      <td>Before 5G</td>\n",
       "      <td>Coimbatore</td>\n",
       "      <td>0.63625</td>\n",
       "      <td>20.0000</td>\n",
       "    </tr>\n",
       "    <tr>\n",
       "      <th>20</th>\n",
       "      <td>Before 5G</td>\n",
       "      <td>Delhi</td>\n",
       "      <td>2.52325</td>\n",
       "      <td>20.0000</td>\n",
       "    </tr>\n",
       "    <tr>\n",
       "      <th>21</th>\n",
       "      <td>Before 5G</td>\n",
       "      <td>Gurgaon</td>\n",
       "      <td>0.33125</td>\n",
       "      <td>20.0000</td>\n",
       "    </tr>\n",
       "    <tr>\n",
       "      <th>22</th>\n",
       "      <td>Before 5G</td>\n",
       "      <td>Hyderabad</td>\n",
       "      <td>1.61125</td>\n",
       "      <td>20.0000</td>\n",
       "    </tr>\n",
       "    <tr>\n",
       "      <th>23</th>\n",
       "      <td>Before 5G</td>\n",
       "      <td>Jaipur</td>\n",
       "      <td>0.89500</td>\n",
       "      <td>20.0000</td>\n",
       "    </tr>\n",
       "    <tr>\n",
       "      <th>24</th>\n",
       "      <td>Before 5G</td>\n",
       "      <td>Kolkata</td>\n",
       "      <td>2.76625</td>\n",
       "      <td>20.0000</td>\n",
       "    </tr>\n",
       "    <tr>\n",
       "      <th>25</th>\n",
       "      <td>Before 5G</td>\n",
       "      <td>Lucknow</td>\n",
       "      <td>0.99750</td>\n",
       "      <td>20.0000</td>\n",
       "    </tr>\n",
       "    <tr>\n",
       "      <th>26</th>\n",
       "      <td>Before 5G</td>\n",
       "      <td>Mumbai</td>\n",
       "      <td>3.01850</td>\n",
       "      <td>20.0000</td>\n",
       "    </tr>\n",
       "    <tr>\n",
       "      <th>27</th>\n",
       "      <td>Before 5G</td>\n",
       "      <td>Patna</td>\n",
       "      <td>0.69500</td>\n",
       "      <td>20.0000</td>\n",
       "    </tr>\n",
       "    <tr>\n",
       "      <th>28</th>\n",
       "      <td>Before 5G</td>\n",
       "      <td>Pune</td>\n",
       "      <td>1.85225</td>\n",
       "      <td>20.0000</td>\n",
       "    </tr>\n",
       "    <tr>\n",
       "      <th>29</th>\n",
       "      <td>Before 5G</td>\n",
       "      <td>Raipur</td>\n",
       "      <td>0.22225</td>\n",
       "      <td>20.0000</td>\n",
       "    </tr>\n",
       "  </tbody>\n",
       "</table>\n",
       "</div>"
      ],
      "text/plain": [
       "       period   city_name  plan_revenue_crores   ms_pct\n",
       "0    After 5G   Ahmedabad              1.59775  20.0015\n",
       "1    After 5G   Bangalore              2.81975  20.0005\n",
       "2    After 5G  Chandigarh              0.50475  20.0000\n",
       "3    After 5G     Chennai              2.50600  20.0000\n",
       "4    After 5G  Coimbatore              0.77350  20.0000\n",
       "5    After 5G       Delhi              3.31350  20.0005\n",
       "6    After 5G     Gurgaon              0.45800  20.0000\n",
       "7    After 5G   Hyderabad              2.00650  20.0000\n",
       "8    After 5G      Jaipur              1.15625  19.9990\n",
       "9    After 5G     Kolkata              3.24075  20.0005\n",
       "10   After 5G     Lucknow              1.09225  19.9995\n",
       "11   After 5G      Mumbai              3.98575  20.0000\n",
       "12   After 5G       Patna              0.85025  19.9990\n",
       "13   After 5G        Pune              2.11450  20.0010\n",
       "14   After 5G      Raipur              0.29000  20.0000\n",
       "15  Before 5G   Ahmedabad              1.36375  20.0000\n",
       "16  Before 5G   Bangalore              2.51200  20.0000\n",
       "17  Before 5G  Chandigarh              0.43650  20.0000\n",
       "18  Before 5G     Chennai              2.19825  20.0000\n",
       "19  Before 5G  Coimbatore              0.63625  20.0000\n",
       "20  Before 5G       Delhi              2.52325  20.0000\n",
       "21  Before 5G     Gurgaon              0.33125  20.0000\n",
       "22  Before 5G   Hyderabad              1.61125  20.0000\n",
       "23  Before 5G      Jaipur              0.89500  20.0000\n",
       "24  Before 5G     Kolkata              2.76625  20.0000\n",
       "25  Before 5G     Lucknow              0.99750  20.0000\n",
       "26  Before 5G      Mumbai              3.01850  20.0000\n",
       "27  Before 5G       Patna              0.69500  20.0000\n",
       "28  Before 5G        Pune              1.85225  20.0000\n",
       "29  Before 5G      Raipur              0.22225  20.0000"
      ]
     },
     "execution_count": 10,
     "metadata": {},
     "output_type": "execute_result"
    }
   ],
   "source": [
    "before_after_5g_city = df.groupby([\"period\",\"city_name\"]).agg({\n",
    "    \"plan_revenue_crores\": \"mean\",\n",
    "    \"ms_pct\": \"mean\"\n",
    "}).reset_index()\n",
    "before_after_5g_city"
   ]
  },
  {
   "cell_type": "markdown",
   "id": "11b7c855",
   "metadata": {},
   "source": [
    "### Visualization: Revenue Before vs After 5G (Bar Chart)\n",
    "\n",
    "Create a grouped bar chart to compare revenue before and after 5G rollout by city.\n"
   ]
  },
  {
   "cell_type": "code",
   "execution_count": 11,
   "id": "9695b9fb",
   "metadata": {},
   "outputs": [],
   "source": [
    "# Revenue of before and after installation of 5G for each city\n",
    "before_after_5g_city[\"period\"] = pd.Categorical(before_after_5g_city[\"period\"], categories=[\"Before 5G\", \"After 5G\"], ordered=True)\n",
    "\n",
    "# Grouped bar chart\n",
    "fig_bar = px.bar(\n",
    "    before_after_5g_city,\n",
    "    x=\"city_name\",\n",
    "    y=\"plan_revenue_crores\",\n",
    "    color=\"period\",\n",
    "    barmode=\"group\",\n",
    "    text_auto=\".2f\",\n",
    "    title=\"Plan Revenue Before vs After 5G by City\",\n",
    "    color_discrete_map={\n",
    "        \"Before 5G\": \"#1f77b4\",  # Blue\n",
    "        \"After 5G\": \"#e74c3c\"    # Red\n",
    "    }\n",
    ")\n",
    "\n",
    "_ = fig_bar.update_layout(\n",
    "    xaxis_title=\"City\",\n",
    "    yaxis_title=\"Revenue (Crores)\",\n",
    "    xaxis_tickangle=-45,\n",
    ")"
   ]
  },
  {
   "cell_type": "code",
   "execution_count": 12,
   "id": "0db2fcaf",
   "metadata": {},
   "outputs": [],
   "source": [
    "before_after_5g_period = df.groupby([\"period\",\"time_period\"]).agg({\n",
    "    \"plan_revenue_crores\": \"mean\",\n",
    "    \"ms_pct\": \"mean\"\n",
    "}).reset_index()"
   ]
  },
  {
   "cell_type": "markdown",
   "id": "18ae5b3c",
   "metadata": {},
   "source": [
    "### Visualization: KPI Indicators\n",
    "\n",
    "Create KPI indicators for average revenue and revenue change after 5G rollout.\n"
   ]
  },
  {
   "cell_type": "code",
   "execution_count": 13,
   "id": "7e029206",
   "metadata": {},
   "outputs": [
    {
     "data": {
      "application/vnd.plotly.v1+json": {
       "config": {
        "plotlyServerURL": "https://plot.ly"
       },
       "data": [
        {
         "delta": {
          "decreasing": {
           "color": "red"
          },
          "increasing": {
           "color": "green"
          },
          "reference": 14.706166666666666,
          "relative": true,
          "valueformat": ".2%"
         },
         "mode": "number+delta",
         "number": {
          "suffix": " M",
          "valueformat": ".2f"
         },
         "title": {
          "text": "After vs Before 5G"
         },
         "type": "indicator",
         "value": 17.806333333333335
        }
       ],
       "layout": {
        "font": {
         "size": 20
        },
        "height": 300,
        "template": {
         "data": {
          "bar": [
           {
            "error_x": {
             "color": "#2a3f5f"
            },
            "error_y": {
             "color": "#2a3f5f"
            },
            "marker": {
             "line": {
              "color": "#E5ECF6",
              "width": 0.5
             },
             "pattern": {
              "fillmode": "overlay",
              "size": 10,
              "solidity": 0.2
             }
            },
            "type": "bar"
           }
          ],
          "barpolar": [
           {
            "marker": {
             "line": {
              "color": "#E5ECF6",
              "width": 0.5
             },
             "pattern": {
              "fillmode": "overlay",
              "size": 10,
              "solidity": 0.2
             }
            },
            "type": "barpolar"
           }
          ],
          "carpet": [
           {
            "aaxis": {
             "endlinecolor": "#2a3f5f",
             "gridcolor": "white",
             "linecolor": "white",
             "minorgridcolor": "white",
             "startlinecolor": "#2a3f5f"
            },
            "baxis": {
             "endlinecolor": "#2a3f5f",
             "gridcolor": "white",
             "linecolor": "white",
             "minorgridcolor": "white",
             "startlinecolor": "#2a3f5f"
            },
            "type": "carpet"
           }
          ],
          "choropleth": [
           {
            "colorbar": {
             "outlinewidth": 0,
             "ticks": ""
            },
            "type": "choropleth"
           }
          ],
          "contour": [
           {
            "colorbar": {
             "outlinewidth": 0,
             "ticks": ""
            },
            "colorscale": [
             [
              0,
              "#0d0887"
             ],
             [
              0.1111111111111111,
              "#46039f"
             ],
             [
              0.2222222222222222,
              "#7201a8"
             ],
             [
              0.3333333333333333,
              "#9c179e"
             ],
             [
              0.4444444444444444,
              "#bd3786"
             ],
             [
              0.5555555555555556,
              "#d8576b"
             ],
             [
              0.6666666666666666,
              "#ed7953"
             ],
             [
              0.7777777777777778,
              "#fb9f3a"
             ],
             [
              0.8888888888888888,
              "#fdca26"
             ],
             [
              1,
              "#f0f921"
             ]
            ],
            "type": "contour"
           }
          ],
          "contourcarpet": [
           {
            "colorbar": {
             "outlinewidth": 0,
             "ticks": ""
            },
            "type": "contourcarpet"
           }
          ],
          "heatmap": [
           {
            "colorbar": {
             "outlinewidth": 0,
             "ticks": ""
            },
            "colorscale": [
             [
              0,
              "#0d0887"
             ],
             [
              0.1111111111111111,
              "#46039f"
             ],
             [
              0.2222222222222222,
              "#7201a8"
             ],
             [
              0.3333333333333333,
              "#9c179e"
             ],
             [
              0.4444444444444444,
              "#bd3786"
             ],
             [
              0.5555555555555556,
              "#d8576b"
             ],
             [
              0.6666666666666666,
              "#ed7953"
             ],
             [
              0.7777777777777778,
              "#fb9f3a"
             ],
             [
              0.8888888888888888,
              "#fdca26"
             ],
             [
              1,
              "#f0f921"
             ]
            ],
            "type": "heatmap"
           }
          ],
          "histogram": [
           {
            "marker": {
             "pattern": {
              "fillmode": "overlay",
              "size": 10,
              "solidity": 0.2
             }
            },
            "type": "histogram"
           }
          ],
          "histogram2d": [
           {
            "colorbar": {
             "outlinewidth": 0,
             "ticks": ""
            },
            "colorscale": [
             [
              0,
              "#0d0887"
             ],
             [
              0.1111111111111111,
              "#46039f"
             ],
             [
              0.2222222222222222,
              "#7201a8"
             ],
             [
              0.3333333333333333,
              "#9c179e"
             ],
             [
              0.4444444444444444,
              "#bd3786"
             ],
             [
              0.5555555555555556,
              "#d8576b"
             ],
             [
              0.6666666666666666,
              "#ed7953"
             ],
             [
              0.7777777777777778,
              "#fb9f3a"
             ],
             [
              0.8888888888888888,
              "#fdca26"
             ],
             [
              1,
              "#f0f921"
             ]
            ],
            "type": "histogram2d"
           }
          ],
          "histogram2dcontour": [
           {
            "colorbar": {
             "outlinewidth": 0,
             "ticks": ""
            },
            "colorscale": [
             [
              0,
              "#0d0887"
             ],
             [
              0.1111111111111111,
              "#46039f"
             ],
             [
              0.2222222222222222,
              "#7201a8"
             ],
             [
              0.3333333333333333,
              "#9c179e"
             ],
             [
              0.4444444444444444,
              "#bd3786"
             ],
             [
              0.5555555555555556,
              "#d8576b"
             ],
             [
              0.6666666666666666,
              "#ed7953"
             ],
             [
              0.7777777777777778,
              "#fb9f3a"
             ],
             [
              0.8888888888888888,
              "#fdca26"
             ],
             [
              1,
              "#f0f921"
             ]
            ],
            "type": "histogram2dcontour"
           }
          ],
          "mesh3d": [
           {
            "colorbar": {
             "outlinewidth": 0,
             "ticks": ""
            },
            "type": "mesh3d"
           }
          ],
          "parcoords": [
           {
            "line": {
             "colorbar": {
              "outlinewidth": 0,
              "ticks": ""
             }
            },
            "type": "parcoords"
           }
          ],
          "pie": [
           {
            "automargin": true,
            "type": "pie"
           }
          ],
          "scatter": [
           {
            "fillpattern": {
             "fillmode": "overlay",
             "size": 10,
             "solidity": 0.2
            },
            "type": "scatter"
           }
          ],
          "scatter3d": [
           {
            "line": {
             "colorbar": {
              "outlinewidth": 0,
              "ticks": ""
             }
            },
            "marker": {
             "colorbar": {
              "outlinewidth": 0,
              "ticks": ""
             }
            },
            "type": "scatter3d"
           }
          ],
          "scattercarpet": [
           {
            "marker": {
             "colorbar": {
              "outlinewidth": 0,
              "ticks": ""
             }
            },
            "type": "scattercarpet"
           }
          ],
          "scattergeo": [
           {
            "marker": {
             "colorbar": {
              "outlinewidth": 0,
              "ticks": ""
             }
            },
            "type": "scattergeo"
           }
          ],
          "scattergl": [
           {
            "marker": {
             "colorbar": {
              "outlinewidth": 0,
              "ticks": ""
             }
            },
            "type": "scattergl"
           }
          ],
          "scattermap": [
           {
            "marker": {
             "colorbar": {
              "outlinewidth": 0,
              "ticks": ""
             }
            },
            "type": "scattermap"
           }
          ],
          "scattermapbox": [
           {
            "marker": {
             "colorbar": {
              "outlinewidth": 0,
              "ticks": ""
             }
            },
            "type": "scattermapbox"
           }
          ],
          "scatterpolar": [
           {
            "marker": {
             "colorbar": {
              "outlinewidth": 0,
              "ticks": ""
             }
            },
            "type": "scatterpolar"
           }
          ],
          "scatterpolargl": [
           {
            "marker": {
             "colorbar": {
              "outlinewidth": 0,
              "ticks": ""
             }
            },
            "type": "scatterpolargl"
           }
          ],
          "scatterternary": [
           {
            "marker": {
             "colorbar": {
              "outlinewidth": 0,
              "ticks": ""
             }
            },
            "type": "scatterternary"
           }
          ],
          "surface": [
           {
            "colorbar": {
             "outlinewidth": 0,
             "ticks": ""
            },
            "colorscale": [
             [
              0,
              "#0d0887"
             ],
             [
              0.1111111111111111,
              "#46039f"
             ],
             [
              0.2222222222222222,
              "#7201a8"
             ],
             [
              0.3333333333333333,
              "#9c179e"
             ],
             [
              0.4444444444444444,
              "#bd3786"
             ],
             [
              0.5555555555555556,
              "#d8576b"
             ],
             [
              0.6666666666666666,
              "#ed7953"
             ],
             [
              0.7777777777777778,
              "#fb9f3a"
             ],
             [
              0.8888888888888888,
              "#fdca26"
             ],
             [
              1,
              "#f0f921"
             ]
            ],
            "type": "surface"
           }
          ],
          "table": [
           {
            "cells": {
             "fill": {
              "color": "#EBF0F8"
             },
             "line": {
              "color": "white"
             }
            },
            "header": {
             "fill": {
              "color": "#C8D4E3"
             },
             "line": {
              "color": "white"
             }
            },
            "type": "table"
           }
          ]
         },
         "layout": {
          "annotationdefaults": {
           "arrowcolor": "#2a3f5f",
           "arrowhead": 0,
           "arrowwidth": 1
          },
          "autotypenumbers": "strict",
          "coloraxis": {
           "colorbar": {
            "outlinewidth": 0,
            "ticks": ""
           }
          },
          "colorscale": {
           "diverging": [
            [
             0,
             "#8e0152"
            ],
            [
             0.1,
             "#c51b7d"
            ],
            [
             0.2,
             "#de77ae"
            ],
            [
             0.3,
             "#f1b6da"
            ],
            [
             0.4,
             "#fde0ef"
            ],
            [
             0.5,
             "#f7f7f7"
            ],
            [
             0.6,
             "#e6f5d0"
            ],
            [
             0.7,
             "#b8e186"
            ],
            [
             0.8,
             "#7fbc41"
            ],
            [
             0.9,
             "#4d9221"
            ],
            [
             1,
             "#276419"
            ]
           ],
           "sequential": [
            [
             0,
             "#0d0887"
            ],
            [
             0.1111111111111111,
             "#46039f"
            ],
            [
             0.2222222222222222,
             "#7201a8"
            ],
            [
             0.3333333333333333,
             "#9c179e"
            ],
            [
             0.4444444444444444,
             "#bd3786"
            ],
            [
             0.5555555555555556,
             "#d8576b"
            ],
            [
             0.6666666666666666,
             "#ed7953"
            ],
            [
             0.7777777777777778,
             "#fb9f3a"
            ],
            [
             0.8888888888888888,
             "#fdca26"
            ],
            [
             1,
             "#f0f921"
            ]
           ],
           "sequentialminus": [
            [
             0,
             "#0d0887"
            ],
            [
             0.1111111111111111,
             "#46039f"
            ],
            [
             0.2222222222222222,
             "#7201a8"
            ],
            [
             0.3333333333333333,
             "#9c179e"
            ],
            [
             0.4444444444444444,
             "#bd3786"
            ],
            [
             0.5555555555555556,
             "#d8576b"
            ],
            [
             0.6666666666666666,
             "#ed7953"
            ],
            [
             0.7777777777777778,
             "#fb9f3a"
            ],
            [
             0.8888888888888888,
             "#fdca26"
            ],
            [
             1,
             "#f0f921"
            ]
           ]
          },
          "colorway": [
           "#636efa",
           "#EF553B",
           "#00cc96",
           "#ab63fa",
           "#FFA15A",
           "#19d3f3",
           "#FF6692",
           "#B6E880",
           "#FF97FF",
           "#FECB52"
          ],
          "font": {
           "color": "#2a3f5f"
          },
          "geo": {
           "bgcolor": "white",
           "lakecolor": "white",
           "landcolor": "#E5ECF6",
           "showlakes": true,
           "showland": true,
           "subunitcolor": "white"
          },
          "hoverlabel": {
           "align": "left"
          },
          "hovermode": "closest",
          "mapbox": {
           "style": "light"
          },
          "paper_bgcolor": "white",
          "plot_bgcolor": "#E5ECF6",
          "polar": {
           "angularaxis": {
            "gridcolor": "white",
            "linecolor": "white",
            "ticks": ""
           },
           "bgcolor": "#E5ECF6",
           "radialaxis": {
            "gridcolor": "white",
            "linecolor": "white",
            "ticks": ""
           }
          },
          "scene": {
           "xaxis": {
            "backgroundcolor": "#E5ECF6",
            "gridcolor": "white",
            "gridwidth": 2,
            "linecolor": "white",
            "showbackground": true,
            "ticks": "",
            "zerolinecolor": "white"
           },
           "yaxis": {
            "backgroundcolor": "#E5ECF6",
            "gridcolor": "white",
            "gridwidth": 2,
            "linecolor": "white",
            "showbackground": true,
            "ticks": "",
            "zerolinecolor": "white"
           },
           "zaxis": {
            "backgroundcolor": "#E5ECF6",
            "gridcolor": "white",
            "gridwidth": 2,
            "linecolor": "white",
            "showbackground": true,
            "ticks": "",
            "zerolinecolor": "white"
           }
          },
          "shapedefaults": {
           "line": {
            "color": "#2a3f5f"
           }
          },
          "ternary": {
           "aaxis": {
            "gridcolor": "white",
            "linecolor": "white",
            "ticks": ""
           },
           "baxis": {
            "gridcolor": "white",
            "linecolor": "white",
            "ticks": ""
           },
           "bgcolor": "#E5ECF6",
           "caxis": {
            "gridcolor": "white",
            "linecolor": "white",
            "ticks": ""
           }
          },
          "title": {
           "x": 0.05
          },
          "xaxis": {
           "automargin": true,
           "gridcolor": "white",
           "linecolor": "white",
           "ticks": "",
           "title": {
            "standoff": 15
           },
           "zerolinecolor": "white",
           "zerolinewidth": 2
          },
          "yaxis": {
           "automargin": true,
           "gridcolor": "white",
           "linecolor": "white",
           "ticks": "",
           "title": {
            "standoff": 15
           },
           "zerolinecolor": "white",
           "zerolinewidth": 2
          }
         }
        },
        "title": {
         "text": "5G Telecom Dashboard"
        }
       }
      }
     },
     "metadata": {},
     "output_type": "display_data"
    }
   ],
   "source": [
    "# Average of both periods\n",
    "avg_revenue_total = before_after_5g[\"plan_revenue_crores\"].mean()\n",
    "\n",
    "# Extract specific values\n",
    "before = before_after_5g.loc[before_after_5g[\"period\"] == \"Before 5G\", \"plan_revenue_crores\"].values[0]\n",
    "after = before_after_5g.loc[before_after_5g[\"period\"] == \"After 5G\", \"plan_revenue_crores\"].values[0]\n",
    "\n",
    "# --- KPI 1: Average Revenue ---\n",
    "kpi_avg = go.Figure(go.Indicator(\n",
    "    mode=\"number\",\n",
    "    value=avg_revenue_total * 10,\n",
    "    title={\"text\": \"Avg Revenue (All Periods)\"},\n",
    "    number={\"valueformat\": \".2f\", \"suffix\": \" M\"}\n",
    "))\n",
    "\n",
    "# --- KPI 2: Delta After vs Before ---\n",
    "kpi_delta = go.Figure(go.Indicator(\n",
    "    mode=\"number+delta\",\n",
    "    value=after * 10,\n",
    "    delta={\n",
    "        \"reference\": before * 10,\n",
    "        \"relative\": True,\n",
    "        \"valueformat\": \".2%\",\n",
    "        \"increasing\": {\"color\": \"green\"},\n",
    "        \"decreasing\": {\"color\": \"red\"}\n",
    "    },\n",
    "    title={\"text\": \"After vs Before 5G\"},\n",
    "    number={\"valueformat\": \".2f\", \"suffix\": \" M\"}\n",
    "))\n",
    "\n",
    "kpi_avg.update_layout(\n",
    "    font=dict(\n",
    "        size=20,\n",
    "    ),\n",
    "    height=300,\n",
    "    title=\"5G Telecom Dashboard\"\n",
    ")\n",
    "\n",
    "kpi_delta.update_layout(\n",
    "    font=dict(\n",
    "        size=20,\n",
    "    ),\n",
    "    height=300,\n",
    "    title=\"5G Telecom Dashboard\"\n",
    ")\n"
   ]
  },
  {
   "cell_type": "code",
   "execution_count": 14,
   "id": "9aeca1e5",
   "metadata": {},
   "outputs": [],
   "source": [
    "# query the average revenue for each month for plotting line graph.\n",
    "\n",
    "query = \"\"\"\n",
    "SELECT \n",
    "    COUNT(FPR.plans),\n",
    "    FPR.plan_revenue_crores,\n",
    "    D.time_period,\n",
    "    D.month_name,\n",
    "    D.\"before/after_5g\" AS period\n",
    "FROM fact_plan_revenue FPR\n",
    "JOIN dim_date D ON FPR.date = D.date\n",
    "GROUP BY month_name\n",
    "ORDER BY CASE D.month_name\n",
    "    WHEN 'Jan' THEN 1\n",
    "    WHEN 'Feb' THEN 2\n",
    "    WHEN 'Mar' THEN 3\n",
    "    WHEN 'Apr' THEN 4\n",
    "    WHEN 'May' THEN 5\n",
    "    WHEN 'Jun' THEN 6\n",
    "    WHEN 'Jul' THEN 7\n",
    "    WHEN 'Aug' THEN 8\n",
    "    WHEN 'Sep' THEN 9\n",
    "    WHEN 'Oct' THEN 10\n",
    "    WHEN 'Nov' THEN 11\n",
    "    WHEN 'Dec' THEN 12\n",
    "END\n",
    "\"\"\"\n",
    "\n",
    "df = pd.read_sql_query(query, conn)\n",
    "df[\"plan_revenue_crores\"] = pd.to_numeric(df[\"plan_revenue_crores\"], errors=\"coerce\")\n",
    "\n",
    "fig_line = px.line(\n",
    "    df,\n",
    "    x=\"month_name\",\n",
    "    y=\"plan_revenue_crores\",\n",
    "    markers= True,\n",
    "    title=\"Average Plan Revenue per Month\",\n",
    "    color_discrete_map={\n",
    "        \"Before 5G\": \"#1f77b4\",  # Blue\n",
    "        \"After 5G\": \"#e74c3c\"    # Red\n",
    "    }\n",
    ")\n"
   ]
  },
  {
   "cell_type": "code",
   "execution_count": 15,
   "id": "e5e2c597",
   "metadata": {},
   "outputs": [],
   "source": [
    "fig_line_ba5g = px.line(\n",
    "    df,\n",
    "    x=\"time_period\",\n",
    "    y=\"plan_revenue_crores\",\n",
    "    color=\"period\",\n",
    "    markers=True,\n",
    "    title=\"Average Plan Revenue per Month\",\n",
    "    color_discrete_map={\n",
    "        \"Before 5G\": \"#1f77b4\",  # Blue\n",
    "        \"After 5G\": \"#e74c3c\"    # Red\n",
    "    }\n",
    ")\n"
   ]
  },
  {
   "cell_type": "markdown",
   "id": "66a4d6fa",
   "metadata": {},
   "source": [
    "### Visualization: Interactive Revenue Filter by City and Period\n"
   ]
  },
  {
   "cell_type": "code",
   "execution_count": 16,
   "id": "8e8d0e4d",
   "metadata": {},
   "outputs": [],
   "source": [
    "# Make a dropdown list to display the filter for different cities.\n",
    "city_dropdown = widgets.Dropdown(\n",
    "    options=[\"All\"] + sorted(before_after_5g_city[\"city_name\"].unique().tolist()),\n",
    "    description=\"City:\"\n",
    ")\n",
    "\n",
    "period_dropdown = widgets.Dropdown(\n",
    "    options=[\"All\", \"Before 5G\", \"After 5G\"],\n",
    "    description=\"Period:\"\n",
    ")"
   ]
  },
  {
   "cell_type": "code",
   "execution_count": 17,
   "id": "3760493b",
   "metadata": {},
   "outputs": [
    {
     "data": {
      "application/vnd.jupyter.widget-view+json": {
       "model_id": "ccb9cecf7a144275ab07fb4bfa78fc39",
       "version_major": 2,
       "version_minor": 0
      },
      "text/plain": [
       "HBox(children=(Dropdown(description='City:', options=('All', 'Ahmedabad', 'Bangalore', 'Chandigarh', 'Chennai'…"
      ]
     },
     "metadata": {},
     "output_type": "display_data"
    },
    {
     "data": {
      "application/vnd.jupyter.widget-view+json": {
       "model_id": "0ef34b66b8ff4107902fc31356d21908",
       "version_major": 2,
       "version_minor": 0
      },
      "text/plain": [
       "Output()"
      ]
     },
     "metadata": {},
     "output_type": "display_data"
    }
   ],
   "source": [
    "def update_plot(city, period):\n",
    "    filtered = before_after_5g_city.copy()\n",
    "    \n",
    "    if city != \"All\":\n",
    "        filtered = filtered[filtered[\"city_name\"] == city]\n",
    "        \n",
    "    if period != \"All\":\n",
    "        filtered = filtered[filtered[\"period\"] == period]\n",
    "        \n",
    "    fig = px.bar(\n",
    "        filtered,\n",
    "        x=\"city_name\",\n",
    "        y=\"plan_revenue_crores\",\n",
    "        color=\"period\",\n",
    "        barmode=\"group\",\n",
    "        title=f\"Revenue by City ({period if period != 'All' else 'All Periods'})\",\n",
    "            color_discrete_map={\n",
    "        \"Before 5G\": \"#1f77b4\",  # Blue\n",
    "        \"After 5G\": \"#e74c3c\"    # Red\n",
    "    }\n",
    "    )\n",
    "    fig.show()\n",
    "\n",
    "\n",
    "ui = widgets.HBox([city_dropdown, period_dropdown])\n",
    "interactive_plot = widgets.interactive_output(update_plot, {\n",
    "    \"city\": city_dropdown,\n",
    "    \"period\": period_dropdown\n",
    "})\n",
    "\n",
    "display(ui, interactive_plot)"
   ]
  },
  {
   "cell_type": "markdown",
   "id": "b891ab85",
   "metadata": {},
   "source": [
    "### Combine all plots and graphs to create a mini dashboard\n"
   ]
  },
  {
   "cell_type": "code",
   "execution_count": 18,
   "id": "5fbce781",
   "metadata": {},
   "outputs": [
    {
     "data": {
      "application/vnd.plotly.v1+json": {
       "config": {
        "plotlyServerURL": "https://plot.ly"
       },
       "data": [
        {
         "domain": {
          "x": [
           0,
           0.45
          ],
          "y": [
           0.8892857142857143,
           1
          ]
         },
         "mode": "number",
         "number": {
          "suffix": " M",
          "valueformat": ".2f"
         },
         "title": {
          "text": "Avg Revenue (All Periods)"
         },
         "type": "indicator",
         "value": 16.256249999999998
        },
        {
         "delta": {
          "decreasing": {
           "color": "red"
          },
          "increasing": {
           "color": "green"
          },
          "reference": 14.706166666666666,
          "relative": true,
          "valueformat": ".2%"
         },
         "domain": {
          "x": [
           0.55,
           1
          ],
          "y": [
           0.8892857142857143,
           1
          ]
         },
         "mode": "number+delta",
         "number": {
          "suffix": " M",
          "valueformat": ".2f"
         },
         "title": {
          "text": "After vs Before 5G"
         },
         "type": "indicator",
         "value": 17.806333333333335
        },
        {
         "alignmentgroup": "True",
         "hovertemplate": "period=After 5G<br>city_name=%{x}<br>plan_revenue_crores=%{y}<extra></extra>",
         "legendgroup": "After 5G",
         "marker": {
          "color": "#e74c3c",
          "pattern": {
           "shape": ""
          }
         },
         "name": "After 5G",
         "offsetgroup": "After 5G",
         "orientation": "v",
         "showlegend": true,
         "textposition": "auto",
         "texttemplate": "%{y:.2f}",
         "type": "bar",
         "x": [
          "Ahmedabad",
          "Bangalore",
          "Chandigarh",
          "Chennai",
          "Coimbatore",
          "Delhi",
          "Gurgaon",
          "Hyderabad",
          "Jaipur",
          "Kolkata",
          "Lucknow",
          "Mumbai",
          "Patna",
          "Pune",
          "Raipur"
         ],
         "xaxis": "x",
         "y": {
          "bdata": "qvHSTWKQ+T8DK4cW2Y4GQPT91HjpJuA/PzVeukkMBECNl24Sg8DoPzZeukkMggpAHFpkO99P3T9aZDvfTw0AQAAAAAAAgPI/kxgEVg7tCUBg5dAi23nxP4lBYOXQ4g9AaZHtfD816z/RItv5fuoAQI/C9Shcj9I/",
          "dtype": "f8"
         },
         "yaxis": "y"
        },
        {
         "alignmentgroup": "True",
         "hovertemplate": "period=Before 5G<br>city_name=%{x}<br>plan_revenue_crores=%{y}<extra></extra>",
         "legendgroup": "Before 5G",
         "marker": {
          "color": "#1f77b4",
          "pattern": {
           "shape": ""
          }
         },
         "name": "Before 5G",
         "offsetgroup": "Before 5G",
         "orientation": "v",
         "showlegend": true,
         "textposition": "auto",
         "texttemplate": "%{y:.2f}",
         "type": "bar",
         "x": [
          "Ahmedabad",
          "Bangalore",
          "Chandigarh",
          "Chennai",
          "Coimbatore",
          "Delhi",
          "Gurgaon",
          "Hyderabad",
          "Jaipur",
          "Kolkata",
          "Lucknow",
          "Mumbai",
          "Patna",
          "Pune",
          "Raipur"
         ],
         "xaxis": "x",
         "y": {
          "bdata": "UrgehevR9T9/arx0kxgEQFYOLbKd79s/vHSTGASWAUBcj8L1KFzkP1YOLbKdLwRAMzMzMzMz1T9I4XoUrsf5P6RwPQrXo+w/4XoUrkchBkDsUbgehevvP9rO91PjJQhAPQrXo3A95j+JQWDl0KL9P6abxCCwcsw/",
          "dtype": "f8"
         },
         "yaxis": "y"
        },
        {
         "hovertemplate": "month_name=%{x}<br>plan_revenue_crores=%{y}<extra></extra>",
         "legendgroup": "",
         "line": {
          "color": "#636efa",
          "dash": "solid"
         },
         "marker": {
          "symbol": "circle"
         },
         "mode": "lines+markers",
         "name": "",
         "orientation": "v",
         "showlegend": false,
         "type": "scatter",
         "x": [
          "Jan",
          "Feb",
          "Mar",
          "Apr",
          "Jun",
          "Jul",
          "Aug",
          "Sep"
         ],
         "xaxis": "x2",
         "y": {
          "bdata": "CtejcD0KGUBxPQrXo3AfQKRwPQrXoxZAZmZmZmZmFkApXI/C9agjQOxRuB6FayFAuB6F61G4HkAAAAAAAAAjQA==",
          "dtype": "f8"
         },
         "yaxis": "y2"
        },
        {
         "hovertemplate": "period=Before 5G<br>time_period=%{x}<br>plan_revenue_crores=%{y}<extra></extra>",
         "legendgroup": "Before 5G",
         "line": {
          "color": "#1f77b4",
          "dash": "solid"
         },
         "marker": {
          "symbol": "circle"
         },
         "mode": "lines+markers",
         "name": "Before 5G",
         "orientation": "v",
         "showlegend": true,
         "type": "scatter",
         "x": [
          "1",
          "2",
          "3",
          "4"
         ],
         "xaxis": "x3",
         "y": {
          "bdata": "CtejcD0KGUBxPQrXo3AfQKRwPQrXoxZAZmZmZmZmFkA=",
          "dtype": "f8"
         },
         "yaxis": "y3"
        },
        {
         "hovertemplate": "period=After 5G<br>time_period=%{x}<br>plan_revenue_crores=%{y}<extra></extra>",
         "legendgroup": "After 5G",
         "line": {
          "color": "#e74c3c",
          "dash": "solid"
         },
         "marker": {
          "symbol": "circle"
         },
         "mode": "lines+markers",
         "name": "After 5G",
         "orientation": "v",
         "showlegend": true,
         "type": "scatter",
         "x": [
          "1",
          "2",
          "3",
          "4"
         ],
         "xaxis": "x3",
         "y": {
          "bdata": "KVyPwvWoI0DsUbgehWshQLgehetRuB5AAAAAAAAAI0A=",
          "dtype": "f8"
         },
         "yaxis": "y3"
        }
       ],
       "layout": {
        "height": 850,
        "showlegend": true,
        "template": {
         "data": {
          "bar": [
           {
            "error_x": {
             "color": "#2a3f5f"
            },
            "error_y": {
             "color": "#2a3f5f"
            },
            "marker": {
             "line": {
              "color": "#E5ECF6",
              "width": 0.5
             },
             "pattern": {
              "fillmode": "overlay",
              "size": 10,
              "solidity": 0.2
             }
            },
            "type": "bar"
           }
          ],
          "barpolar": [
           {
            "marker": {
             "line": {
              "color": "#E5ECF6",
              "width": 0.5
             },
             "pattern": {
              "fillmode": "overlay",
              "size": 10,
              "solidity": 0.2
             }
            },
            "type": "barpolar"
           }
          ],
          "carpet": [
           {
            "aaxis": {
             "endlinecolor": "#2a3f5f",
             "gridcolor": "white",
             "linecolor": "white",
             "minorgridcolor": "white",
             "startlinecolor": "#2a3f5f"
            },
            "baxis": {
             "endlinecolor": "#2a3f5f",
             "gridcolor": "white",
             "linecolor": "white",
             "minorgridcolor": "white",
             "startlinecolor": "#2a3f5f"
            },
            "type": "carpet"
           }
          ],
          "choropleth": [
           {
            "colorbar": {
             "outlinewidth": 0,
             "ticks": ""
            },
            "type": "choropleth"
           }
          ],
          "contour": [
           {
            "colorbar": {
             "outlinewidth": 0,
             "ticks": ""
            },
            "colorscale": [
             [
              0,
              "#0d0887"
             ],
             [
              0.1111111111111111,
              "#46039f"
             ],
             [
              0.2222222222222222,
              "#7201a8"
             ],
             [
              0.3333333333333333,
              "#9c179e"
             ],
             [
              0.4444444444444444,
              "#bd3786"
             ],
             [
              0.5555555555555556,
              "#d8576b"
             ],
             [
              0.6666666666666666,
              "#ed7953"
             ],
             [
              0.7777777777777778,
              "#fb9f3a"
             ],
             [
              0.8888888888888888,
              "#fdca26"
             ],
             [
              1,
              "#f0f921"
             ]
            ],
            "type": "contour"
           }
          ],
          "contourcarpet": [
           {
            "colorbar": {
             "outlinewidth": 0,
             "ticks": ""
            },
            "type": "contourcarpet"
           }
          ],
          "heatmap": [
           {
            "colorbar": {
             "outlinewidth": 0,
             "ticks": ""
            },
            "colorscale": [
             [
              0,
              "#0d0887"
             ],
             [
              0.1111111111111111,
              "#46039f"
             ],
             [
              0.2222222222222222,
              "#7201a8"
             ],
             [
              0.3333333333333333,
              "#9c179e"
             ],
             [
              0.4444444444444444,
              "#bd3786"
             ],
             [
              0.5555555555555556,
              "#d8576b"
             ],
             [
              0.6666666666666666,
              "#ed7953"
             ],
             [
              0.7777777777777778,
              "#fb9f3a"
             ],
             [
              0.8888888888888888,
              "#fdca26"
             ],
             [
              1,
              "#f0f921"
             ]
            ],
            "type": "heatmap"
           }
          ],
          "histogram": [
           {
            "marker": {
             "pattern": {
              "fillmode": "overlay",
              "size": 10,
              "solidity": 0.2
             }
            },
            "type": "histogram"
           }
          ],
          "histogram2d": [
           {
            "colorbar": {
             "outlinewidth": 0,
             "ticks": ""
            },
            "colorscale": [
             [
              0,
              "#0d0887"
             ],
             [
              0.1111111111111111,
              "#46039f"
             ],
             [
              0.2222222222222222,
              "#7201a8"
             ],
             [
              0.3333333333333333,
              "#9c179e"
             ],
             [
              0.4444444444444444,
              "#bd3786"
             ],
             [
              0.5555555555555556,
              "#d8576b"
             ],
             [
              0.6666666666666666,
              "#ed7953"
             ],
             [
              0.7777777777777778,
              "#fb9f3a"
             ],
             [
              0.8888888888888888,
              "#fdca26"
             ],
             [
              1,
              "#f0f921"
             ]
            ],
            "type": "histogram2d"
           }
          ],
          "histogram2dcontour": [
           {
            "colorbar": {
             "outlinewidth": 0,
             "ticks": ""
            },
            "colorscale": [
             [
              0,
              "#0d0887"
             ],
             [
              0.1111111111111111,
              "#46039f"
             ],
             [
              0.2222222222222222,
              "#7201a8"
             ],
             [
              0.3333333333333333,
              "#9c179e"
             ],
             [
              0.4444444444444444,
              "#bd3786"
             ],
             [
              0.5555555555555556,
              "#d8576b"
             ],
             [
              0.6666666666666666,
              "#ed7953"
             ],
             [
              0.7777777777777778,
              "#fb9f3a"
             ],
             [
              0.8888888888888888,
              "#fdca26"
             ],
             [
              1,
              "#f0f921"
             ]
            ],
            "type": "histogram2dcontour"
           }
          ],
          "mesh3d": [
           {
            "colorbar": {
             "outlinewidth": 0,
             "ticks": ""
            },
            "type": "mesh3d"
           }
          ],
          "parcoords": [
           {
            "line": {
             "colorbar": {
              "outlinewidth": 0,
              "ticks": ""
             }
            },
            "type": "parcoords"
           }
          ],
          "pie": [
           {
            "automargin": true,
            "type": "pie"
           }
          ],
          "scatter": [
           {
            "fillpattern": {
             "fillmode": "overlay",
             "size": 10,
             "solidity": 0.2
            },
            "type": "scatter"
           }
          ],
          "scatter3d": [
           {
            "line": {
             "colorbar": {
              "outlinewidth": 0,
              "ticks": ""
             }
            },
            "marker": {
             "colorbar": {
              "outlinewidth": 0,
              "ticks": ""
             }
            },
            "type": "scatter3d"
           }
          ],
          "scattercarpet": [
           {
            "marker": {
             "colorbar": {
              "outlinewidth": 0,
              "ticks": ""
             }
            },
            "type": "scattercarpet"
           }
          ],
          "scattergeo": [
           {
            "marker": {
             "colorbar": {
              "outlinewidth": 0,
              "ticks": ""
             }
            },
            "type": "scattergeo"
           }
          ],
          "scattergl": [
           {
            "marker": {
             "colorbar": {
              "outlinewidth": 0,
              "ticks": ""
             }
            },
            "type": "scattergl"
           }
          ],
          "scattermap": [
           {
            "marker": {
             "colorbar": {
              "outlinewidth": 0,
              "ticks": ""
             }
            },
            "type": "scattermap"
           }
          ],
          "scattermapbox": [
           {
            "marker": {
             "colorbar": {
              "outlinewidth": 0,
              "ticks": ""
             }
            },
            "type": "scattermapbox"
           }
          ],
          "scatterpolar": [
           {
            "marker": {
             "colorbar": {
              "outlinewidth": 0,
              "ticks": ""
             }
            },
            "type": "scatterpolar"
           }
          ],
          "scatterpolargl": [
           {
            "marker": {
             "colorbar": {
              "outlinewidth": 0,
              "ticks": ""
             }
            },
            "type": "scatterpolargl"
           }
          ],
          "scatterternary": [
           {
            "marker": {
             "colorbar": {
              "outlinewidth": 0,
              "ticks": ""
             }
            },
            "type": "scatterternary"
           }
          ],
          "surface": [
           {
            "colorbar": {
             "outlinewidth": 0,
             "ticks": ""
            },
            "colorscale": [
             [
              0,
              "#0d0887"
             ],
             [
              0.1111111111111111,
              "#46039f"
             ],
             [
              0.2222222222222222,
              "#7201a8"
             ],
             [
              0.3333333333333333,
              "#9c179e"
             ],
             [
              0.4444444444444444,
              "#bd3786"
             ],
             [
              0.5555555555555556,
              "#d8576b"
             ],
             [
              0.6666666666666666,
              "#ed7953"
             ],
             [
              0.7777777777777778,
              "#fb9f3a"
             ],
             [
              0.8888888888888888,
              "#fdca26"
             ],
             [
              1,
              "#f0f921"
             ]
            ],
            "type": "surface"
           }
          ],
          "table": [
           {
            "cells": {
             "fill": {
              "color": "#EBF0F8"
             },
             "line": {
              "color": "white"
             }
            },
            "header": {
             "fill": {
              "color": "#C8D4E3"
             },
             "line": {
              "color": "white"
             }
            },
            "type": "table"
           }
          ]
         },
         "layout": {
          "annotationdefaults": {
           "arrowcolor": "#2a3f5f",
           "arrowhead": 0,
           "arrowwidth": 1
          },
          "autotypenumbers": "strict",
          "coloraxis": {
           "colorbar": {
            "outlinewidth": 0,
            "ticks": ""
           }
          },
          "colorscale": {
           "diverging": [
            [
             0,
             "#8e0152"
            ],
            [
             0.1,
             "#c51b7d"
            ],
            [
             0.2,
             "#de77ae"
            ],
            [
             0.3,
             "#f1b6da"
            ],
            [
             0.4,
             "#fde0ef"
            ],
            [
             0.5,
             "#f7f7f7"
            ],
            [
             0.6,
             "#e6f5d0"
            ],
            [
             0.7,
             "#b8e186"
            ],
            [
             0.8,
             "#7fbc41"
            ],
            [
             0.9,
             "#4d9221"
            ],
            [
             1,
             "#276419"
            ]
           ],
           "sequential": [
            [
             0,
             "#0d0887"
            ],
            [
             0.1111111111111111,
             "#46039f"
            ],
            [
             0.2222222222222222,
             "#7201a8"
            ],
            [
             0.3333333333333333,
             "#9c179e"
            ],
            [
             0.4444444444444444,
             "#bd3786"
            ],
            [
             0.5555555555555556,
             "#d8576b"
            ],
            [
             0.6666666666666666,
             "#ed7953"
            ],
            [
             0.7777777777777778,
             "#fb9f3a"
            ],
            [
             0.8888888888888888,
             "#fdca26"
            ],
            [
             1,
             "#f0f921"
            ]
           ],
           "sequentialminus": [
            [
             0,
             "#0d0887"
            ],
            [
             0.1111111111111111,
             "#46039f"
            ],
            [
             0.2222222222222222,
             "#7201a8"
            ],
            [
             0.3333333333333333,
             "#9c179e"
            ],
            [
             0.4444444444444444,
             "#bd3786"
            ],
            [
             0.5555555555555556,
             "#d8576b"
            ],
            [
             0.6666666666666666,
             "#ed7953"
            ],
            [
             0.7777777777777778,
             "#fb9f3a"
            ],
            [
             0.8888888888888888,
             "#fdca26"
            ],
            [
             1,
             "#f0f921"
            ]
           ]
          },
          "colorway": [
           "#636efa",
           "#EF553B",
           "#00cc96",
           "#ab63fa",
           "#FFA15A",
           "#19d3f3",
           "#FF6692",
           "#B6E880",
           "#FF97FF",
           "#FECB52"
          ],
          "font": {
           "color": "#2a3f5f"
          },
          "geo": {
           "bgcolor": "white",
           "lakecolor": "white",
           "landcolor": "#E5ECF6",
           "showlakes": true,
           "showland": true,
           "subunitcolor": "white"
          },
          "hoverlabel": {
           "align": "left"
          },
          "hovermode": "closest",
          "mapbox": {
           "style": "light"
          },
          "paper_bgcolor": "white",
          "plot_bgcolor": "#E5ECF6",
          "polar": {
           "angularaxis": {
            "gridcolor": "white",
            "linecolor": "white",
            "ticks": ""
           },
           "bgcolor": "#E5ECF6",
           "radialaxis": {
            "gridcolor": "white",
            "linecolor": "white",
            "ticks": ""
           }
          },
          "scene": {
           "xaxis": {
            "backgroundcolor": "#E5ECF6",
            "gridcolor": "white",
            "gridwidth": 2,
            "linecolor": "white",
            "showbackground": true,
            "ticks": "",
            "zerolinecolor": "white"
           },
           "yaxis": {
            "backgroundcolor": "#E5ECF6",
            "gridcolor": "white",
            "gridwidth": 2,
            "linecolor": "white",
            "showbackground": true,
            "ticks": "",
            "zerolinecolor": "white"
           },
           "zaxis": {
            "backgroundcolor": "#E5ECF6",
            "gridcolor": "white",
            "gridwidth": 2,
            "linecolor": "white",
            "showbackground": true,
            "ticks": "",
            "zerolinecolor": "white"
           }
          },
          "shapedefaults": {
           "line": {
            "color": "#2a3f5f"
           }
          },
          "ternary": {
           "aaxis": {
            "gridcolor": "white",
            "linecolor": "white",
            "ticks": ""
           },
           "baxis": {
            "gridcolor": "white",
            "linecolor": "white",
            "ticks": ""
           },
           "bgcolor": "#E5ECF6",
           "caxis": {
            "gridcolor": "white",
            "linecolor": "white",
            "ticks": ""
           }
          },
          "title": {
           "x": 0.05
          },
          "xaxis": {
           "automargin": true,
           "gridcolor": "white",
           "linecolor": "white",
           "ticks": "",
           "title": {
            "standoff": 15
           },
           "zerolinecolor": "white",
           "zerolinewidth": 2
          },
          "yaxis": {
           "automargin": true,
           "gridcolor": "white",
           "linecolor": "white",
           "ticks": "",
           "title": {
            "standoff": 15
           },
           "zerolinecolor": "white",
           "zerolinewidth": 2
          }
         }
        },
        "title": {
         "text": "5G Telecom Dashboard"
        },
        "xaxis": {
         "anchor": "y",
         "domain": [
          0,
          1
         ]
        },
        "xaxis2": {
         "anchor": "y2",
         "domain": [
          0,
          1
         ]
        },
        "xaxis3": {
         "anchor": "y3",
         "domain": [
          0,
          1
         ]
        },
        "yaxis": {
         "anchor": "x",
         "domain": [
          0.592857142857143,
          0.8142857142857145
         ]
        },
        "yaxis2": {
         "anchor": "x2",
         "domain": [
          0.2964285714285715,
          0.517857142857143
         ]
        },
        "yaxis3": {
         "anchor": "x3",
         "domain": [
          0,
          0.22142857142857147
         ]
        }
       }
      }
     },
     "metadata": {},
     "output_type": "display_data"
    }
   ],
   "source": [
    "dashboard = make_subplots(\n",
    "    rows=4, cols=2,\n",
    "    row_heights=[0.2, 0.4, 0.4, 0.4],\n",
    "    specs=[\n",
    "        [{\"type\": \"indicator\"}, {\"type\": \"indicator\"}],  # Row 1\n",
    "        [{\"type\": \"xy\", \"colspan\": 2}, None], # Row 2: Full-width bar chart\n",
    "        [{\"type\": \"xy\", \"colspan\": 2}, None], # Row 3: Full-width line chart\n",
    "        [{\"type\": \"xy\", \"colspan\": 2}, None]  # Row 4: Another\n",
    "    ],\n",
    "\n",
    ")\n",
    "\n",
    "# 🔹 Row 1: KPI Indicator\n",
    "for trace in kpi_avg.data:\n",
    "    dashboard.add_trace(trace, row=1, col=1)\n",
    "    \n",
    "for trace in kpi_delta.data:\n",
    "    dashboard.add_trace(trace, row=1, col=2)\n",
    "\n",
    "# 🔹 Row 2: Bar chart\n",
    "for trace in fig_bar.data:\n",
    "    dashboard.add_trace(trace, row=2, col=1)\n",
    "\n",
    "# 🔹 Row 3: Line chart\n",
    "for trace in fig_line.data:\n",
    "    dashboard.add_trace(trace, row=3, col=1)\n",
    "    \n",
    "# 🔹 Row 4: Line chart before and after 5g\n",
    "for trace in fig_line_ba5g.data:\n",
    "    dashboard.add_trace(trace, row=4, col=1)\n",
    "    \n",
    "dashboard.update_layout(\n",
    "    height=850,\n",
    "    title=\"5G Telecom Dashboard\",\n",
    "    showlegend=True\n",
    ")\n",
    "\n",
    "dashboard.show()\n"
   ]
  },
  {
   "cell_type": "markdown",
   "id": "a72f605d",
   "metadata": {},
   "source": []
  }
 ],
 "metadata": {
  "kernelspec": {
   "display_name": "Python 3",
   "language": "python",
   "name": "python3"
  },
  "language_info": {
   "codemirror_mode": {
    "name": "ipython",
    "version": 3
   },
   "file_extension": ".py",
   "mimetype": "text/x-python",
   "name": "python",
   "nbconvert_exporter": "python",
   "pygments_lexer": "ipython3",
   "version": "3.9.17"
  }
 },
 "nbformat": 4,
 "nbformat_minor": 5
}
